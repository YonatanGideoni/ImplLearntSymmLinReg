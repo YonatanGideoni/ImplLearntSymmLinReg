{
 "cells": [
  {
   "cell_type": "markdown",
   "source": [
    "Imports:"
   ],
   "metadata": {
    "collapsed": false
   }
  },
  {
   "cell_type": "code",
   "execution_count": null,
   "outputs": [],
   "source": [
    "import copy\n",
    "from itertools import permutations\n",
    "\n",
    "import pandas as pd\n",
    "import torch\n",
    "from matplotlib import pyplot as plt\n",
    "\n",
    "from lr_symm_invar_analysis.perceptron_symm_decomp import train_model\n",
    "from symm_data_gen import PermXYSymmGenerator, AbsXSymmGenerator, SymmDataGenerator, PolyXYSymmGenerator\n",
    "from utils import Perceptron\n"
   ],
   "metadata": {
    "collapsed": false,
    "ExecuteTime": {
     "start_time": "2023-04-24T11:40:16.446313Z",
     "end_time": "2023-04-24T11:40:19.405753Z"
    }
   }
  },
  {
   "cell_type": "markdown",
   "source": [
    "Helper functions:"
   ],
   "metadata": {
    "collapsed": false
   }
  },
  {
   "cell_type": "code",
   "execution_count": null,
   "outputs": [],
   "source": [
    "def train_models(symm_data_gen, lr, n_epochs, n_samples, n_models: int,\n",
    "                 manually_set_params: bool = False, asymm: bool = False) -> pd.DataFrame:\n",
    "    results = []\n",
    "    for n_model in range(n_models):\n",
    "        model = Perceptron(input_dim=symm_data_gen.n_features, output_dim=1, activation=lambda x: x)\n",
    "\n",
    "        # relevant only for reflection symmetry\n",
    "        if manually_set_params:\n",
    "            weights, biases = tuple(model.state_dict().values())\n",
    "\n",
    "            if asymm:\n",
    "                weights.copy_(torch.tensor([[n_model]], dtype=weights.dtype))\n",
    "                biases.copy_(torch.tensor([1], dtype=biases.dtype))\n",
    "            else:\n",
    "                weights.copy_(torch.tensor([[1]], dtype=weights.dtype))\n",
    "                biases.copy_(torch.tensor([n_model], dtype=biases.dtype))\n",
    "\n",
    "        res = train_model(model, symm_data_gen, lr=lr, n_epochs=n_epochs, n_samples=n_samples)\n",
    "        res['n_model'] = n_model\n",
    "\n",
    "        results.append(res)\n",
    "\n",
    "    return pd.concat(results)"
   ],
   "metadata": {
    "collapsed": false,
    "ExecuteTime": {
     "start_time": "2023-04-24T11:40:19.412725Z",
     "end_time": "2023-04-24T11:40:19.417061Z"
    }
   }
  },
  {
   "cell_type": "code",
   "execution_count": null,
   "outputs": [],
   "source": [
    "def plot_res_asymm_loss(results: pd.DataFrame, fs: int = 16, ax=None, label: str = None):\n",
    "    if ax is None:\n",
    "        plt.figure()\n",
    "        ax = plt.gca()\n",
    "\n",
    "    results.groupby('n_model').apply(lambda data: data.plot(x='epoch', y='asymm_loss', ax=ax, label=label))\n",
    "    ax.set_xlim(0)\n",
    "    ax.semilogy()\n",
    "\n",
    "    ax.get_legend().remove()\n",
    "    ax.set_ylabel('Asymmetry loss', fontsize=fs)\n",
    "    ax.set_xlabel('Epoch', fontsize=fs)\n",
    "    plt.xticks(fontsize=fs)\n",
    "    plt.yticks(fontsize=fs)\n"
   ],
   "metadata": {
    "collapsed": false,
    "ExecuteTime": {
     "start_time": "2023-04-24T11:40:19.420874Z",
     "end_time": "2023-04-24T11:40:19.487109Z"
    }
   }
  },
  {
   "cell_type": "code",
   "execution_count": null,
   "outputs": [],
   "source": [
    "def plot_exp(exp: pd.DataFrame, fs: int, figsize: tuple, groupby_col: str = 'n_model', semilogy: bool = False):\n",
    "    fig, axs = plt.subplots(2, 1, sharex=True)\n",
    "    fig.set_size_inches(*figsize)\n",
    "\n",
    "    exp.groupby(groupby_col).apply(lambda data: data.plot(x='epoch', y='weights', ax=axs[0]))\n",
    "    exp.groupby(groupby_col).apply(lambda data: data.plot(x='epoch', y='biases', ax=axs[1]))\n",
    "\n",
    "    for ax in axs:\n",
    "        ax.get_legend().remove()\n",
    "\n",
    "    plt.subplots_adjust(hspace=0.)\n",
    "\n",
    "    axs[0].set_ylabel('Asymm. comp.', fontsize=fs)\n",
    "    axs[1].set_ylabel('Symm. comp.', fontsize=fs)\n",
    "    axs[1].set_xlabel('Epoch', fontsize=fs)\n",
    "\n",
    "    for ax in axs:\n",
    "        ax.set_xlim(0)\n",
    "        ax.tick_params(axis='both', which='major', labelsize=fs)\n",
    "\n",
    "        if semilogy:\n",
    "            ax.semilogy()"
   ],
   "metadata": {
    "collapsed": false
   }
  },
  {
   "cell_type": "code",
   "execution_count": null,
   "outputs": [],
   "source": [
    "def extr_weights_and_biases(res):\n",
    "    res['weights'] = res.params.apply(lambda x: x[0][0][0])\n",
    "    res['biases'] = res.params.apply(lambda x: x[1][0])\n"
   ],
   "metadata": {
    "collapsed": false
   }
  },
  {
   "cell_type": "markdown",
   "source": [
    "Experiments' hyperparams:"
   ],
   "metadata": {
    "collapsed": false
   }
  },
  {
   "cell_type": "code",
   "execution_count": null,
   "outputs": [],
   "source": [
    "n_epochs = 100\n",
    "lr = 1e-2\n",
    "n_samples = 1000\n",
    "n_models = 3"
   ],
   "metadata": {
    "collapsed": false,
    "ExecuteTime": {
     "start_time": "2023-04-24T11:40:19.451936Z",
     "end_time": "2023-04-24T11:40:19.522449Z"
    }
   }
  },
  {
   "cell_type": "markdown",
   "source": [
    "Experiment I - learning x+y, x-y switching symmetry"
   ],
   "metadata": {
    "collapsed": false
   }
  },
  {
   "cell_type": "code",
   "execution_count": null,
   "outputs": [],
   "source": [
    "symm_data_gen = PermXYSymmGenerator\n",
    "\n",
    "exp1_res = train_models(symm_data_gen, lr, n_epochs, n_samples, n_models)"
   ],
   "metadata": {
    "collapsed": false,
    "ExecuteTime": {
     "start_time": "2023-04-24T11:40:19.474940Z",
     "end_time": "2023-04-24T11:40:42.110026Z"
    }
   }
  },
  {
   "cell_type": "code",
   "execution_count": null,
   "outputs": [],
   "source": [
    "plot_res_asymm_loss(exp1_res)"
   ],
   "metadata": {
    "collapsed": false,
    "ExecuteTime": {
     "start_time": "2023-04-24T11:40:42.115939Z",
     "end_time": "2023-04-24T11:40:42.956079Z"
    }
   }
  },
  {
   "cell_type": "markdown",
   "source": [
    "Experiment II - learning |x|, reflection symmetry"
   ],
   "metadata": {
    "collapsed": false
   }
  },
  {
   "cell_type": "code",
   "execution_count": null,
   "outputs": [],
   "source": [
    "symm_data_gen = AbsXSymmGenerator\n",
    "\n",
    "exp2_res = train_models(symm_data_gen, lr, n_epochs, n_samples, n_models)"
   ],
   "metadata": {
    "collapsed": false,
    "ExecuteTime": {
     "start_time": "2023-04-24T11:40:42.954972Z",
     "end_time": "2023-04-24T11:41:06.648357Z"
    }
   }
  },
  {
   "cell_type": "code",
   "execution_count": null,
   "outputs": [],
   "source": [
    "plt.figure(figsize=(5, 5))\n",
    "plot_res_asymm_loss(exp2_res, ax=plt.gca())\n",
    "\n",
    "plt.gcf().savefig('abs_x_asymm.pdf', dpi=300, bbox_inches=\"tight\")"
   ],
   "metadata": {
    "collapsed": false,
    "ExecuteTime": {
     "start_time": "2023-04-24T11:41:06.690435Z",
     "end_time": "2023-04-24T11:41:07.524267Z"
    }
   }
  },
  {
   "cell_type": "markdown",
   "source": [
    "Experiment III - learning x+y+z, permutation symmetry"
   ],
   "metadata": {
    "collapsed": false
   }
  },
  {
   "cell_type": "code",
   "execution_count": null,
   "outputs": [],
   "source": [
    "n_features = 3\n",
    "symm_data_gen = SymmDataGenerator(n_features,\n",
    "                                  [lambda x: x[:, list(perm)] for perm in permutations(range(n_features))],\n",
    "                                  lambda x: x.sum(axis=-1))\n",
    "\n",
    "exp3_res = train_models(symm_data_gen, lr, n_epochs, n_samples, n_models)"
   ],
   "metadata": {
    "collapsed": false,
    "ExecuteTime": {
     "start_time": "2023-04-24T11:41:07.524750Z",
     "end_time": "2023-04-24T11:41:32.718478Z"
    }
   }
  },
  {
   "cell_type": "code",
   "execution_count": null,
   "outputs": [],
   "source": [
    "plot_res_asymm_loss(exp3_res)"
   ],
   "metadata": {
    "collapsed": false,
    "ExecuteTime": {
     "start_time": "2023-04-24T11:41:32.747741Z",
     "end_time": "2023-04-24T11:41:33.360865Z"
    }
   }
  },
  {
   "cell_type": "markdown",
   "source": [
    "Experiment IV - |x|, various SNRs"
   ],
   "metadata": {
    "collapsed": false
   }
  },
  {
   "cell_type": "code",
   "execution_count": null,
   "outputs": [],
   "source": [
    "noise_levels = [0, 0.1, 0.3, 0.5, 0.7]\n",
    "\n",
    "noisy_res = []\n",
    "for noise in noise_levels:\n",
    "    NoisyAbsXSymmGenerator = SymmDataGenerator(1, [lambda x: x, lambda x: -x], lambda x: abs(x), noise=noise)\n",
    "    res = train_models(NoisyAbsXSymmGenerator, lr, n_epochs, n_samples, n_models=1)\n",
    "    res['noise_std'] = noise\n",
    "\n",
    "    noisy_res.append(res)\n",
    "\n",
    "exp4_res = pd.concat(noisy_res)"
   ],
   "metadata": {
    "collapsed": false,
    "ExecuteTime": {
     "start_time": "2023-04-24T11:41:33.359578Z",
     "end_time": "2023-04-24T11:42:20.252358Z"
    }
   }
  },
  {
   "cell_type": "code",
   "execution_count": null,
   "outputs": [],
   "source": [
    "plt.figure(figsize=(9, 7))\n",
    "\n",
    "exp4_res.groupby('noise_std').apply(lambda x: x.plot(x='epoch', y='asymm_loss', ax=plt.gca(), label=x.name));\n",
    "\n",
    "plt.semilogy()\n",
    "\n",
    "fs = 16\n",
    "plt.legend(title='Noise std', title_fontsize=fs, fontsize=fs)\n",
    "plt.xlabel('Epoch', fontsize=fs)\n",
    "plt.ylabel('Asymmetry loss', fontsize=fs)\n",
    "plt.xticks(fontsize=fs)\n",
    "plt.yticks(fontsize=fs)\n",
    "\n",
    "plt.gcf().savefig('inv_noise_test.pdf', dpi=300, bbox_inches=\"tight\")"
   ],
   "metadata": {
    "collapsed": false,
    "ExecuteTime": {
     "start_time": "2023-04-24T11:42:20.296089Z",
     "end_time": "2023-04-24T11:42:20.296655Z"
    }
   }
  },
  {
   "cell_type": "code",
   "execution_count": null,
   "outputs": [],
   "source": [
    "extr_weights_and_biases(exp4_res)"
   ],
   "metadata": {
    "collapsed": false
   }
  },
  {
   "cell_type": "code",
   "execution_count": null,
   "outputs": [],
   "source": [
    "plot_exp(exp4_res, fs=14, figsize=(8, 8), groupby_col='noise_std', semilogy=True)"
   ],
   "metadata": {
    "collapsed": false
   }
  },
  {
   "cell_type": "markdown",
   "source": [
    "Experiment V - x+y, inexact symmetry"
   ],
   "metadata": {
    "collapsed": false
   }
  },
  {
   "cell_type": "code",
   "execution_count": null,
   "outputs": [],
   "source": [
    "symm_data_gen = copy.deepcopy(PermXYSymmGenerator)\n",
    "symm_data_gen.symmetrise_expl = False\n",
    "\n",
    "red_n_samples = 20\n",
    "\n",
    "exp5_res = train_models(symm_data_gen, lr, n_epochs * 10, n_samples=red_n_samples, n_models=n_models)"
   ],
   "metadata": {
    "collapsed": false,
    "ExecuteTime": {
     "start_time": "2023-04-24T11:42:20.296493Z",
     "end_time": "2023-04-24T11:42:33.119532Z"
    }
   }
  },
  {
   "cell_type": "code",
   "execution_count": null,
   "outputs": [],
   "source": [
    "plot_res_asymm_loss(exp5_res)\n",
    "\n",
    "fs = 16\n",
    "plt.xlabel('Epoch', fontsize=fs)\n",
    "plt.ylabel('Asymmetry loss', fontsize=fs)\n",
    "plt.xticks(fontsize=fs)\n",
    "plt.yticks(fontsize=fs)\n",
    "\n",
    "plt.gcf().savefig('inexact_inv_symm.pdf', dpi=300, bbox_inches=\"tight\")"
   ],
   "metadata": {
    "collapsed": false,
    "ExecuteTime": {
     "start_time": "2023-04-24T11:42:33.147197Z",
     "end_time": "2023-04-24T11:42:33.645242Z"
    }
   }
  },
  {
   "cell_type": "markdown",
   "source": [
    "Experiment VI - x+y with a polynomial kernel, under and overparameterised systems"
   ],
   "metadata": {
    "collapsed": false
   }
  },
  {
   "cell_type": "code",
   "execution_count": null,
   "outputs": [],
   "source": [
    "# overparameterised\n",
    "symm_data_gen = PolyXYSymmGenerator(order=2)\n",
    "\n",
    "exp6_res = train_models(symm_data_gen, lr, n_epochs, n_samples=100, n_models=n_models)"
   ],
   "metadata": {
    "collapsed": false,
    "ExecuteTime": {
     "start_time": "2023-04-24T11:42:33.650085Z",
     "end_time": "2023-04-24T11:42:49.986640Z"
    }
   }
  },
  {
   "cell_type": "code",
   "execution_count": null,
   "outputs": [],
   "source": [
    "plot_res_asymm_loss(exp6_res)"
   ],
   "metadata": {
    "collapsed": false,
    "ExecuteTime": {
     "start_time": "2023-04-24T11:42:49.986493Z",
     "end_time": "2023-04-24T11:42:50.402473Z"
    }
   }
  },
  {
   "cell_type": "code",
   "execution_count": null,
   "outputs": [],
   "source": [
    "# underparameterised\n",
    "symm_data_gen = PolyXYSymmGenerator(order=15)\n",
    "\n",
    "exp6_res = train_models(symm_data_gen, lr, n_epochs, n_samples=100, n_models=n_models)"
   ],
   "metadata": {
    "collapsed": false,
    "ExecuteTime": {
     "start_time": "2023-04-24T11:42:50.406875Z",
     "end_time": "2023-04-24T11:43:37.472442Z"
    }
   }
  },
  {
   "cell_type": "code",
   "execution_count": null,
   "outputs": [],
   "source": [
    "plot_res_asymm_loss(exp6_res)"
   ],
   "metadata": {
    "collapsed": false,
    "ExecuteTime": {
     "start_time": "2023-04-24T11:43:37.514328Z",
     "end_time": "2023-04-24T11:43:38.177768Z"
    }
   }
  },
  {
   "cell_type": "markdown",
   "source": [
    "Experiment VII - x+y, large learning rates"
   ],
   "metadata": {
    "collapsed": false
   }
  },
  {
   "cell_type": "code",
   "execution_count": null,
   "outputs": [],
   "source": [
    "lrs = [1e-3, 1e-2, 1e-1, 1]\n",
    "\n",
    "symm_data_gen = PermXYSymmGenerator\n",
    "\n",
    "diff_lr_res = []\n",
    "for diff_lr in lrs:\n",
    "    res = train_models(symm_data_gen, diff_lr, n_epochs, n_samples, n_models=1)\n",
    "    res['lr'] = lr\n",
    "\n",
    "    diff_lr_res.append(res)\n",
    "\n",
    "exp7_res = pd.concat(diff_lr_res)"
   ],
   "metadata": {
    "collapsed": false
   }
  },
  {
   "cell_type": "code",
   "execution_count": null,
   "outputs": [],
   "source": [],
   "metadata": {
    "collapsed": false
   }
  },
  {
   "cell_type": "markdown",
   "source": [
    "Experiment VIII - |x|and x^2, asymm part's lack of dependence on labels"
   ],
   "metadata": {
    "collapsed": false
   }
  },
  {
   "cell_type": "code",
   "execution_count": null,
   "outputs": [],
   "source": [],
   "metadata": {
    "collapsed": false
   }
  },
  {
   "cell_type": "markdown",
   "source": [
    "Experiment IX - |x|, independence of symm and asymm parts"
   ],
   "metadata": {
    "collapsed": false
   }
  },
  {
   "cell_type": "code",
   "execution_count": null,
   "outputs": [],
   "source": [
    "symm_data_gen = AbsXSymmGenerator\n",
    "\n",
    "exp9_symm_res = train_models(symm_data_gen, lr, n_samples=n_samples, n_models=5, manually_set_params=True, n_epochs=50)\n",
    "exp9_asymm_res = train_models(symm_data_gen, lr, n_samples=n_samples, n_models=5, manually_set_params=True, asymm=True,\n",
    "                              n_epochs=50)"
   ],
   "metadata": {
    "collapsed": false
   }
  },
  {
   "cell_type": "code",
   "execution_count": null,
   "outputs": [],
   "source": [
    "extr_weights_and_biases(exp9_symm_res)\n",
    "extr_weights_and_biases(exp9_asymm_res)"
   ],
   "metadata": {
    "collapsed": false
   }
  },
  {
   "cell_type": "code",
   "execution_count": null,
   "outputs": [],
   "source": [
    "plot_exp(exp9_asymm_res, fs=16, figsize=(5, 5))\n",
    "\n",
    "plt.gcf().savefig('abs_x_asymm_weights.pdf', dpi=300, bbox_inches=\"tight\")"
   ],
   "metadata": {
    "collapsed": false
   }
  },
  {
   "cell_type": "code",
   "execution_count": null,
   "outputs": [],
   "source": [
    "plot_exp(exp9_symm_res, fs=16, figsize=(5, 5))\n",
    "\n",
    "plt.gcf().savefig('abs_x_symm_weights.pdf', dpi=300, bbox_inches=\"tight\")"
   ],
   "metadata": {
    "collapsed": false
   }
  },
  {
   "cell_type": "code",
   "execution_count": null,
   "outputs": [],
   "source": [],
   "metadata": {
    "collapsed": false
   }
  }
 ],
 "metadata": {
  "kernelspec": {
   "display_name": "Python 3",
   "language": "python",
   "name": "python3"
  },
  "language_info": {
   "codemirror_mode": {
    "name": "ipython",
    "version": 2
   },
   "file_extension": ".py",
   "mimetype": "text/x-python",
   "name": "python",
   "nbconvert_exporter": "python",
   "pygments_lexer": "ipython2",
   "version": "2.7.6"
  }
 },
 "nbformat": 4,
 "nbformat_minor": 0
}
