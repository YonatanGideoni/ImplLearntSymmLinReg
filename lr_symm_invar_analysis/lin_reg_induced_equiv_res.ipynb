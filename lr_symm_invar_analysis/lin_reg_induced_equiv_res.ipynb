{
 "cells": [
  {
   "cell_type": "markdown",
   "metadata": {},
   "source": [
    "Imports:"
   ]
  },
  {
   "cell_type": "code",
   "execution_count": null,
   "metadata": {
    "ExecuteTime": {
     "end_time": "2023-04-24T11:40:19.405753Z",
     "start_time": "2023-04-24T11:40:16.446313Z"
    }
   },
   "outputs": [],
   "source": [
    "import copy\n",
    "from itertools import permutations\n",
    "\n",
    "import numpy as np\n",
    "import pandas as pd\n",
    "import torch\n",
    "from matplotlib import pyplot as plt\n",
    "\n",
    "from lr_symm_invar_analysis.perceptron_symm_decomp import train_model\n",
    "from symm_data_gen import PermXYSymmGenerator, AbsXSymmGenerator, SymmDataGenerator, PolyXYSymmGenerator\n",
    "from utils import Perceptron\n"
   ]
  },
  {
   "cell_type": "markdown",
   "metadata": {},
   "source": [
    "Helper functions:"
   ]
  },
  {
   "cell_type": "code",
   "execution_count": null,
   "metadata": {
    "ExecuteTime": {
     "end_time": "2023-04-24T11:40:19.417061Z",
     "start_time": "2023-04-24T11:40:19.412725Z"
    }
   },
   "outputs": [],
   "source": [
    "def train_models(symm_data_gen, lr, n_epochs, n_samples, n_models: int, manually_set_params: bool = False,\n",
    "                 asymm: bool = False, bias: bool = False) -> pd.DataFrame:\n",
    "    results = []\n",
    "    for n_model in range(n_models):\n",
    "        model = Perceptron(input_dim=symm_data_gen.n_features, output_dim=symm_data_gen.n_features,\n",
    "                           activation=lambda x: x, bias=bias)\n",
    "\n",
    "        if manually_set_params:\n",
    "            weights, = tuple(model.state_dict().values())\n",
    "\n",
    "            if asymm:\n",
    "                weights.copy_(torch.tensor([[n_model + 1, n_model],\n",
    "                                            [- n_model, -n_model + 1]], dtype=weights.dtype))\n",
    "            else:\n",
    "                weights.copy_(torch.tensor([[n_model - 1, n_model - 1],\n",
    "                                            [n_model + 1, n_model + 1]], dtype=weights.dtype))\n",
    "\n",
    "        res = train_model(model, symm_data_gen, lr=lr, n_epochs=n_epochs, n_samples=n_samples)\n",
    "        res['n_model'] = n_model\n",
    "\n",
    "        results.append(res)\n",
    "\n",
    "    return pd.concat(results)"
   ]
  },
  {
   "cell_type": "code",
   "execution_count": null,
   "metadata": {
    "ExecuteTime": {
     "end_time": "2023-04-24T11:40:19.487109Z",
     "start_time": "2023-04-24T11:40:19.420874Z"
    }
   },
   "outputs": [],
   "source": [
    "def plot_res_asymm_loss(results: pd.DataFrame, fs: int = 16, ax=None, label: str = None):\n",
    "    if ax is None:\n",
    "        plt.figure()\n",
    "        ax = plt.gca()\n",
    "\n",
    "    results.groupby('n_model').apply(lambda data: data.plot(x='epoch', y='asymm_loss', ax=ax, label=label))\n",
    "    ax.set_xlim(0)\n",
    "    ax.semilogy()\n",
    "\n",
    "    ax.get_legend().remove()\n",
    "    ax.set_ylabel('Asymmetry loss', fontsize=fs)\n",
    "    ax.set_xlabel('Epoch', fontsize=fs)\n",
    "    plt.xticks(fontsize=fs)\n",
    "    plt.yticks(fontsize=fs)\n"
   ]
  },
  {
   "cell_type": "markdown",
   "metadata": {},
   "source": [
    "Experiments' hyperparams:"
   ]
  },
  {
   "cell_type": "code",
   "execution_count": null,
   "metadata": {
    "ExecuteTime": {
     "end_time": "2023-04-24T11:40:19.522449Z",
     "start_time": "2023-04-24T11:40:19.451936Z"
    }
   },
   "outputs": [],
   "source": [
    "n_epochs = 100\n",
    "lr = 1e-2\n",
    "n_samples = 1000\n",
    "n_models = 3"
   ]
  },
  {
   "cell_type": "markdown",
   "metadata": {},
   "source": [
    "Experiment I - learning $y, x$, x-y switching symmetry"
   ]
  },
  {
   "cell_type": "code",
   "execution_count": null,
   "metadata": {
    "ExecuteTime": {
     "end_time": "2023-04-24T11:40:42.110026Z",
     "start_time": "2023-04-24T11:40:19.474940Z"
    }
   },
   "outputs": [],
   "source": [
    "symm_data_gen = SymmDataGenerator(2, [lambda x: x, lambda x: x[:, [1, 0]]], lambda x: x[:, ::-1], equiv=True)\n",
    "\n",
    "exp1_res = train_models(symm_data_gen, lr, n_epochs, n_samples, n_models)"
   ]
  },
  {
   "cell_type": "code",
   "execution_count": null,
   "metadata": {
    "ExecuteTime": {
     "end_time": "2023-04-24T11:40:42.956079Z",
     "start_time": "2023-04-24T11:40:42.115939Z"
    }
   },
   "outputs": [],
   "source": [
    "plt.figure(figsize=(6, 7))\n",
    "\n",
    "plot_res_asymm_loss(exp1_res, ax=plt.gca())\n",
    "\n",
    "plt.gcf().savefig('xy_equiv.pdf', dpi=300, bbox_inches=\"tight\")"
   ]
  },
  {
   "cell_type": "markdown",
   "metadata": {},
   "source": [
    "Experiment II - plotting asymmetric and symmetric components over time:"
   ]
  },
  {
   "cell_type": "code",
   "execution_count": null,
   "outputs": [],
   "source": [
    "def extr_asymm_comps(exp_res: pd.DataFrame):\n",
    "    exp_res['asymm_comp1'] = exp_res.params.apply(lambda data: data[0][0, 1] - data[0][1, 0]) / 2\n",
    "    exp_res['asymm_comp2'] = exp_res.params.apply(lambda data: data[0][1, 1] - data[0][0, 0]) / 2\n",
    "\n",
    "\n",
    "def extr_symm_comps(exp_res: pd.DataFrame):\n",
    "    exp_res['symm_comp1'] = exp_res.params.apply(lambda data: data[0][0, 1] + data[0][1, 0]) / 2\n",
    "    exp_res['symm_comp2'] = exp_res.params.apply(lambda data: data[0][1, 1] + data[0][0, 0]) / 2"
   ],
   "metadata": {
    "collapsed": false
   }
  },
  {
   "cell_type": "code",
   "execution_count": null,
   "outputs": [],
   "source": [
    "n_models = 5\n",
    "asymm_exps = train_models(symm_data_gen, lr, n_epochs, n_samples, n_models, asymm=True, manually_set_params=True)\n",
    "symm_exps = train_models(symm_data_gen, lr, n_epochs, n_samples, n_models, asymm=False, manually_set_params=True)\n",
    "\n",
    "extr_symm_comps(asymm_exps)\n",
    "extr_asymm_comps(asymm_exps)\n",
    "\n",
    "extr_symm_comps(symm_exps)\n",
    "extr_asymm_comps(symm_exps)"
   ],
   "metadata": {
    "collapsed": false
   }
  },
  {
   "cell_type": "code",
   "execution_count": null,
   "outputs": [],
   "source": [
    "def plot_exp(exp: pd.DataFrame, fs: int, figsize: tuple, groupby_col: str = 'n_model', semilogy: bool = False):\n",
    "    fig, axs = plt.subplots(2, 2, sharex=True)\n",
    "    fig.set_size_inches(*figsize)\n",
    "\n",
    "    exp.groupby(groupby_col).apply(lambda data: data.plot(x='epoch', y='asymm_comp1', ax=axs[0, 0]))\n",
    "    exp.groupby(groupby_col).apply(lambda data: data.plot(x='epoch', y='asymm_comp2', ax=axs[1, 0]))\n",
    "    exp.groupby(groupby_col).apply(lambda data: data.plot(x='epoch', y='symm_comp1', ax=axs[0, 1]))\n",
    "    exp.groupby(groupby_col).apply(lambda data: data.plot(x='epoch', y='symm_comp2', ax=axs[1, 1]))\n",
    "\n",
    "    for sub_axs in axs:\n",
    "        for ax in sub_axs:\n",
    "            ax.get_legend().remove()\n",
    "\n",
    "    plt.subplots_adjust(wspace=0.3, hspace=0.05)\n",
    "\n",
    "    axs[0, 0].set_title('Asymm. comps.', fontsize=fs)\n",
    "    axs[0, 1].set_title('Symm. comps.', fontsize=fs)\n",
    "    axs[1, 0].set_xlabel('Epochs', fontsize=fs)\n",
    "    axs[1, 1].set_xlabel('Epochs', fontsize=fs)\n",
    "\n",
    "    for sub_ax in axs:\n",
    "        for ax in sub_ax:\n",
    "            ax.set_xlim(0)\n",
    "            ax.tick_params(axis='both', which='major', labelsize=fs)\n",
    "\n",
    "            if semilogy:\n",
    "                ax.semilogy()\n"
   ],
   "metadata": {
    "collapsed": false
   }
  },
  {
   "cell_type": "code",
   "execution_count": null,
   "outputs": [],
   "source": [
    "plot_exp(asymm_exps, fs=16, figsize=(9, 7))\n",
    "\n",
    "plt.gcf().savefig('xy_equiv_asymm.pdf', dpi=300, bbox_inches=\"tight\")"
   ],
   "metadata": {
    "collapsed": false
   }
  },
  {
   "cell_type": "code",
   "execution_count": null,
   "outputs": [],
   "source": [
    "plot_exp(symm_exps, fs=16, figsize=(9, 7))\n",
    "\n",
    "plt.gcf().savefig('xy_equiv_symm.pdf', dpi=300, bbox_inches=\"tight\")"
   ],
   "metadata": {
    "collapsed": false
   }
  },
  {
   "cell_type": "code",
   "execution_count": null,
   "outputs": [],
   "source": [],
   "metadata": {
    "collapsed": false
   }
  }
 ],
 "metadata": {
  "kernelspec": {
   "display_name": "Python 3 (ipykernel)",
   "language": "python",
   "name": "python3"
  },
  "language_info": {
   "codemirror_mode": {
    "name": "ipython",
    "version": 3
   },
   "file_extension": ".py",
   "mimetype": "text/x-python",
   "name": "python",
   "nbconvert_exporter": "python",
   "pygments_lexer": "ipython3",
   "version": "3.8.10"
  }
 },
 "nbformat": 4,
 "nbformat_minor": 1
}
